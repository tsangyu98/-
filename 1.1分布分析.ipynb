{
 "cells": [
  {
   "cell_type": "code",
   "execution_count": 1,
   "metadata": {
    "ExecuteTime": {
     "end_time": "2020-01-10T01:10:59.508008Z",
     "start_time": "2020-01-10T01:10:59.493169Z"
    }
   },
   "outputs": [
    {
     "data": {
      "text/plain": [
       "'\\n\\n[课程1.1]  分布分析\\n分布分析 → 研究数据的分布特征和分布类型，分定量数据、定性数据区分基本统计量\\n\\n极差、频率分布情况、分组组距及组数\\n\\n'"
      ]
     },
     "execution_count": 1,
     "metadata": {},
     "output_type": "execute_result"
    }
   ],
   "source": [
    "'''\n",
    "\n",
    "[课程1.1]  分布分析\n",
    "分布分析 → 研究数据的分布特征和分布类型，分定量数据、定性数据区分基本统计量\n",
    "\n",
    "极差、频率分布情况、分组组距及组数\n",
    "\n",
    "'''"
   ]
  },
  {
   "cell_type": "code",
   "execution_count": 2,
   "metadata": {
    "ExecuteTime": {
     "end_time": "2020-01-10T01:11:00.273007Z",
     "start_time": "2020-01-10T01:10:59.510593Z"
    }
   },
   "outputs": [],
   "source": [
    "import numpy as np\n",
    "import pandas as pd\n",
    "from matplotlib import pyplot as plt\n",
    "%matplotlib inline"
   ]
  },
  {
   "cell_type": "code",
   "execution_count": 3,
   "metadata": {
    "ExecuteTime": {
     "end_time": "2020-01-10T01:11:00.308016Z",
     "start_time": "2020-01-10T01:11:00.274900Z"
    }
   },
   "outputs": [
    {
     "data": {
      "text/html": [
       "<div>\n",
       "<style scoped>\n",
       "    .dataframe tbody tr th:only-of-type {\n",
       "        vertical-align: middle;\n",
       "    }\n",
       "\n",
       "    .dataframe tbody tr th {\n",
       "        vertical-align: top;\n",
       "    }\n",
       "\n",
       "    .dataframe thead th {\n",
       "        text-align: right;\n",
       "    }\n",
       "</style>\n",
       "<table border=\"1\" class=\"dataframe\">\n",
       "  <thead>\n",
       "    <tr style=\"text-align: right;\">\n",
       "      <th></th>\n",
       "      <th>房屋编码</th>\n",
       "      <th>小区</th>\n",
       "      <th>朝向</th>\n",
       "      <th>房屋单价</th>\n",
       "      <th>参考首付</th>\n",
       "      <th>参考总价</th>\n",
       "      <th>经度</th>\n",
       "      <th>纬度</th>\n",
       "    </tr>\n",
       "  </thead>\n",
       "  <tbody>\n",
       "    <tr>\n",
       "      <th>0</th>\n",
       "      <td>605093949</td>\n",
       "      <td>大望新平村</td>\n",
       "      <td>南北</td>\n",
       "      <td>5434</td>\n",
       "      <td>15.0</td>\n",
       "      <td>50.0</td>\n",
       "      <td>114.180964</td>\n",
       "      <td>22.603698</td>\n",
       "    </tr>\n",
       "    <tr>\n",
       "      <th>1</th>\n",
       "      <td>605768856</td>\n",
       "      <td>通宝楼</td>\n",
       "      <td>南北</td>\n",
       "      <td>3472</td>\n",
       "      <td>7.5</td>\n",
       "      <td>25.0</td>\n",
       "      <td>114.179298</td>\n",
       "      <td>22.566910</td>\n",
       "    </tr>\n",
       "    <tr>\n",
       "      <th>2</th>\n",
       "      <td>606815561</td>\n",
       "      <td>罗湖区罗芳村</td>\n",
       "      <td>南北</td>\n",
       "      <td>5842</td>\n",
       "      <td>15.6</td>\n",
       "      <td>52.0</td>\n",
       "      <td>114.158869</td>\n",
       "      <td>22.547223</td>\n",
       "    </tr>\n",
       "    <tr>\n",
       "      <th>3</th>\n",
       "      <td>605147285</td>\n",
       "      <td>兴华苑</td>\n",
       "      <td>南北</td>\n",
       "      <td>3829</td>\n",
       "      <td>10.8</td>\n",
       "      <td>36.0</td>\n",
       "      <td>114.158040</td>\n",
       "      <td>22.554343</td>\n",
       "    </tr>\n",
       "    <tr>\n",
       "      <th>4</th>\n",
       "      <td>606030866</td>\n",
       "      <td>京基东方都会</td>\n",
       "      <td>西南</td>\n",
       "      <td>47222</td>\n",
       "      <td>51.0</td>\n",
       "      <td>170.0</td>\n",
       "      <td>114.149243</td>\n",
       "      <td>22.554370</td>\n",
       "    </tr>\n",
       "    <tr>\n",
       "      <th>...</th>\n",
       "      <td>...</td>\n",
       "      <td>...</td>\n",
       "      <td>...</td>\n",
       "      <td>...</td>\n",
       "      <td>...</td>\n",
       "      <td>...</td>\n",
       "      <td>...</td>\n",
       "      <td>...</td>\n",
       "    </tr>\n",
       "    <tr>\n",
       "      <th>70</th>\n",
       "      <td>598258845</td>\n",
       "      <td>三九花园</td>\n",
       "      <td>南</td>\n",
       "      <td>5833</td>\n",
       "      <td>12.6</td>\n",
       "      <td>42.0</td>\n",
       "      <td>114.089539</td>\n",
       "      <td>22.577080</td>\n",
       "    </tr>\n",
       "    <tr>\n",
       "      <th>71</th>\n",
       "      <td>594221866</td>\n",
       "      <td>三九花园</td>\n",
       "      <td>南</td>\n",
       "      <td>5681</td>\n",
       "      <td>15.0</td>\n",
       "      <td>50.0</td>\n",
       "      <td>114.089539</td>\n",
       "      <td>22.577080</td>\n",
       "    </tr>\n",
       "    <tr>\n",
       "      <th>72</th>\n",
       "      <td>606700179</td>\n",
       "      <td>城市春天</td>\n",
       "      <td>南北</td>\n",
       "      <td>3571</td>\n",
       "      <td>7.5</td>\n",
       "      <td>25.0</td>\n",
       "      <td>114.083405</td>\n",
       "      <td>22.539505</td>\n",
       "    </tr>\n",
       "    <tr>\n",
       "      <th>73</th>\n",
       "      <td>603950517</td>\n",
       "      <td>皇御苑</td>\n",
       "      <td>东北</td>\n",
       "      <td>59701</td>\n",
       "      <td>54.0</td>\n",
       "      <td>180.0</td>\n",
       "      <td>114.081795</td>\n",
       "      <td>22.531393</td>\n",
       "    </tr>\n",
       "    <tr>\n",
       "      <th>74</th>\n",
       "      <td>605232094</td>\n",
       "      <td>晨晖家园</td>\n",
       "      <td>南</td>\n",
       "      <td>54285</td>\n",
       "      <td>57.0</td>\n",
       "      <td>190.0</td>\n",
       "      <td>114.067625</td>\n",
       "      <td>22.525508</td>\n",
       "    </tr>\n",
       "  </tbody>\n",
       "</table>\n",
       "<p>75 rows × 8 columns</p>\n",
       "</div>"
      ],
      "text/plain": [
       "         房屋编码      小区  朝向   房屋单价  参考首付   参考总价          经度         纬度\n",
       "0   605093949   大望新平村  南北   5434  15.0   50.0  114.180964  22.603698\n",
       "1   605768856     通宝楼  南北   3472   7.5   25.0  114.179298  22.566910\n",
       "2   606815561  罗湖区罗芳村  南北   5842  15.6   52.0  114.158869  22.547223\n",
       "3   605147285     兴华苑  南北   3829  10.8   36.0  114.158040  22.554343\n",
       "4   606030866  京基东方都会  西南  47222  51.0  170.0  114.149243  22.554370\n",
       "..        ...     ...  ..    ...   ...    ...         ...        ...\n",
       "70  598258845    三九花园   南   5833  12.6   42.0  114.089539  22.577080\n",
       "71  594221866    三九花园   南   5681  15.0   50.0  114.089539  22.577080\n",
       "72  606700179    城市春天  南北   3571   7.5   25.0  114.083405  22.539505\n",
       "73  603950517     皇御苑  东北  59701  54.0  180.0  114.081795  22.531393\n",
       "74  605232094    晨晖家园   南  54285  57.0  190.0  114.067625  22.525508\n",
       "\n",
       "[75 rows x 8 columns]"
      ]
     },
     "execution_count": 3,
     "metadata": {},
     "output_type": "execute_result"
    }
   ],
   "source": [
    "# 读取数据\n",
    "data = pd.read_csv('深圳罗湖二手房信息.csv', engine='python', encoding='gbk')\n",
    "data"
   ]
  },
  {
   "cell_type": "code",
   "execution_count": 4,
   "metadata": {
    "ExecuteTime": {
     "end_time": "2020-01-10T01:11:00.539832Z",
     "start_time": "2020-01-10T01:11:00.310044Z"
    }
   },
   "outputs": [
    {
     "data": {
      "image/png": "[encoded data removed]",
      "text/plain": [
       "<Figure size 432x288 with 1 Axes>"
      ]
     },
     "metadata": {
      "needs_background": "light"
     },
     "output_type": "display_data"
    }
   ],
   "source": [
    "# 做散点图查看分布情况\n",
    "plt.scatter(data[\"经度\"], data[\"纬度\"],  # 按照经纬度显示\n",
    "           s = data['房屋单价']/500,  # 按照房屋单价显示点的大小\n",
    "           c = data['参考总价'], cmap='Reds',  # 按照总价显示颜色\n",
    "           alpha=0.4)\n",
    "plt.grid()"
   ]
  },
  {
   "cell_type": "code",
   "execution_count": 5,
   "metadata": {
    "ExecuteTime": {
     "end_time": "2020-01-10T01:11:00.549164Z",
     "start_time": "2020-01-10T01:11:00.541898Z"
    }
   },
   "outputs": [
    {
     "name": "stdout",
     "output_type": "stream",
     "text": [
      "参考首付的极差为:52.5, \n",
      "参考总价的极差为:175.0\n"
     ]
    }
   ],
   "source": [
    "# 极差:只针对定量数据字段\n",
    "def d_range(df, *cols):\n",
    "    krange = []\n",
    "    for col in cols:\n",
    "        crange = df[col].max() - df[col].min()  # 极差\n",
    "        krange.append(crange)\n",
    "    return krange\n",
    "\n",
    "key1 = \"参考首付\"\n",
    "key2 = \"参考总价\"\n",
    "dr = d_range(data, key1, key2)\n",
    "print(\"%s的极差为:%s, \\n%s的极差为:%s\" % (key1, dr[0], key2, dr[1]))\n"
   ]
  },
  {
   "cell_type": "code",
   "execution_count": 6,
   "metadata": {
    "ExecuteTime": {
     "end_time": "2020-01-10T01:11:00.789853Z",
     "start_time": "2020-01-10T01:11:00.550997Z"
    }
   },
   "outputs": [
    {
     "data": {
      "text/plain": [
       "<matplotlib.axes._subplots.AxesSubplot at 0x124574610>"
      ]
     },
     "execution_count": 6,
     "metadata": {},
     "output_type": "execute_result"
    },
    {
     "data": {
      "image/png": "[encoded data removed]",
      "text/plain": [
       "<Figure size 432x288 with 1 Axes>"
      ]
     },
     "metadata": {
      "needs_background": "light"
     },
     "output_type": "display_data"
    }
   ],
   "source": [
    "# 频率分布情况:定量字段\n",
    "data[key2].hist(bins=10)\n",
    "# 简单查看数据分布，确定分布组数，一般为8-16"
   ]
  },
  {
   "cell_type": "code",
   "execution_count": 7,
   "metadata": {
    "ExecuteTime": {
     "end_time": "2020-01-10T01:11:00.825742Z",
     "start_time": "2020-01-10T01:11:00.791452Z"
    }
   },
   "outputs": [
    {
     "data": {
      "text/html": [
       "<div>\n",
       "<style scoped>\n",
       "    .dataframe tbody tr th:only-of-type {\n",
       "        vertical-align: middle;\n",
       "    }\n",
       "\n",
       "    .dataframe tbody tr th {\n",
       "        vertical-align: top;\n",
       "    }\n",
       "\n",
       "    .dataframe thead th {\n",
       "        text-align: right;\n",
       "    }\n",
       "</style>\n",
       "<table border=\"1\" class=\"dataframe\">\n",
       "  <thead>\n",
       "    <tr style=\"text-align: right;\">\n",
       "      <th></th>\n",
       "      <th>房屋编码</th>\n",
       "      <th>小区</th>\n",
       "      <th>朝向</th>\n",
       "      <th>房屋单价</th>\n",
       "      <th>参考首付</th>\n",
       "      <th>参考总价</th>\n",
       "      <th>经度</th>\n",
       "      <th>纬度</th>\n",
       "      <th>分组区间</th>\n",
       "    </tr>\n",
       "  </thead>\n",
       "  <tbody>\n",
       "    <tr>\n",
       "      <th>0</th>\n",
       "      <td>605093949</td>\n",
       "      <td>大望新平村</td>\n",
       "      <td>南北</td>\n",
       "      <td>5434</td>\n",
       "      <td>15.0</td>\n",
       "      <td>50.0</td>\n",
       "      <td>114.180964</td>\n",
       "      <td>22.603698</td>\n",
       "      <td>[42.5, 60.0)</td>\n",
       "    </tr>\n",
       "    <tr>\n",
       "      <th>1</th>\n",
       "      <td>605768856</td>\n",
       "      <td>通宝楼</td>\n",
       "      <td>南北</td>\n",
       "      <td>3472</td>\n",
       "      <td>7.5</td>\n",
       "      <td>25.0</td>\n",
       "      <td>114.179298</td>\n",
       "      <td>22.566910</td>\n",
       "      <td>[25.0, 42.5)</td>\n",
       "    </tr>\n",
       "    <tr>\n",
       "      <th>2</th>\n",
       "      <td>606815561</td>\n",
       "      <td>罗湖区罗芳村</td>\n",
       "      <td>南北</td>\n",
       "      <td>5842</td>\n",
       "      <td>15.6</td>\n",
       "      <td>52.0</td>\n",
       "      <td>114.158869</td>\n",
       "      <td>22.547223</td>\n",
       "      <td>[42.5, 60.0)</td>\n",
       "    </tr>\n",
       "    <tr>\n",
       "      <th>3</th>\n",
       "      <td>605147285</td>\n",
       "      <td>兴华苑</td>\n",
       "      <td>南北</td>\n",
       "      <td>3829</td>\n",
       "      <td>10.8</td>\n",
       "      <td>36.0</td>\n",
       "      <td>114.158040</td>\n",
       "      <td>22.554343</td>\n",
       "      <td>[25.0, 42.5)</td>\n",
       "    </tr>\n",
       "    <tr>\n",
       "      <th>4</th>\n",
       "      <td>606030866</td>\n",
       "      <td>京基东方都会</td>\n",
       "      <td>西南</td>\n",
       "      <td>47222</td>\n",
       "      <td>51.0</td>\n",
       "      <td>170.0</td>\n",
       "      <td>114.149243</td>\n",
       "      <td>22.554370</td>\n",
       "      <td>[165.0, 182.5)</td>\n",
       "    </tr>\n",
       "    <tr>\n",
       "      <th>...</th>\n",
       "      <td>...</td>\n",
       "      <td>...</td>\n",
       "      <td>...</td>\n",
       "      <td>...</td>\n",
       "      <td>...</td>\n",
       "      <td>...</td>\n",
       "      <td>...</td>\n",
       "      <td>...</td>\n",
       "      <td>...</td>\n",
       "    </tr>\n",
       "    <tr>\n",
       "      <th>70</th>\n",
       "      <td>598258845</td>\n",
       "      <td>三九花园</td>\n",
       "      <td>南</td>\n",
       "      <td>5833</td>\n",
       "      <td>12.6</td>\n",
       "      <td>42.0</td>\n",
       "      <td>114.089539</td>\n",
       "      <td>22.577080</td>\n",
       "      <td>[25.0, 42.5)</td>\n",
       "    </tr>\n",
       "    <tr>\n",
       "      <th>71</th>\n",
       "      <td>594221866</td>\n",
       "      <td>三九花园</td>\n",
       "      <td>南</td>\n",
       "      <td>5681</td>\n",
       "      <td>15.0</td>\n",
       "      <td>50.0</td>\n",
       "      <td>114.089539</td>\n",
       "      <td>22.577080</td>\n",
       "      <td>[42.5, 60.0)</td>\n",
       "    </tr>\n",
       "    <tr>\n",
       "      <th>72</th>\n",
       "      <td>606700179</td>\n",
       "      <td>城市春天</td>\n",
       "      <td>南北</td>\n",
       "      <td>3571</td>\n",
       "      <td>7.5</td>\n",
       "      <td>25.0</td>\n",
       "      <td>114.083405</td>\n",
       "      <td>22.539505</td>\n",
       "      <td>[25.0, 42.5)</td>\n",
       "    </tr>\n",
       "    <tr>\n",
       "      <th>73</th>\n",
       "      <td>603950517</td>\n",
       "      <td>皇御苑</td>\n",
       "      <td>东北</td>\n",
       "      <td>59701</td>\n",
       "      <td>54.0</td>\n",
       "      <td>180.0</td>\n",
       "      <td>114.081795</td>\n",
       "      <td>22.531393</td>\n",
       "      <td>[165.0, 182.5)</td>\n",
       "    </tr>\n",
       "    <tr>\n",
       "      <th>74</th>\n",
       "      <td>605232094</td>\n",
       "      <td>晨晖家园</td>\n",
       "      <td>南</td>\n",
       "      <td>54285</td>\n",
       "      <td>57.0</td>\n",
       "      <td>190.0</td>\n",
       "      <td>114.067625</td>\n",
       "      <td>22.525508</td>\n",
       "      <td>[182.5, 200.175)</td>\n",
       "    </tr>\n",
       "  </tbody>\n",
       "</table>\n",
       "<p>75 rows × 9 columns</p>\n",
       "</div>"
      ],
      "text/plain": [
       "         房屋编码      小区  朝向   房屋单价  参考首付   参考总价          经度         纬度  \\\n",
       "0   605093949   大望新平村  南北   5434  15.0   50.0  114.180964  22.603698   \n",
       "1   605768856     通宝楼  南北   3472   7.5   25.0  114.179298  22.566910   \n",
       "2   606815561  罗湖区罗芳村  南北   5842  15.6   52.0  114.158869  22.547223   \n",
       "3   605147285     兴华苑  南北   3829  10.8   36.0  114.158040  22.554343   \n",
       "4   606030866  京基东方都会  西南  47222  51.0  170.0  114.149243  22.554370   \n",
       "..        ...     ...  ..    ...   ...    ...         ...        ...   \n",
       "70  598258845    三九花园   南   5833  12.6   42.0  114.089539  22.577080   \n",
       "71  594221866    三九花园   南   5681  15.0   50.0  114.089539  22.577080   \n",
       "72  606700179    城市春天  南北   3571   7.5   25.0  114.083405  22.539505   \n",
       "73  603950517     皇御苑  东北  59701  54.0  180.0  114.081795  22.531393   \n",
       "74  605232094    晨晖家园   南  54285  57.0  190.0  114.067625  22.525508   \n",
       "\n",
       "                分组区间  \n",
       "0       [42.5, 60.0)  \n",
       "1       [25.0, 42.5)  \n",
       "2       [42.5, 60.0)  \n",
       "3       [25.0, 42.5)  \n",
       "4     [165.0, 182.5)  \n",
       "..               ...  \n",
       "70      [25.0, 42.5)  \n",
       "71      [42.5, 60.0)  \n",
       "72      [25.0, 42.5)  \n",
       "73    [165.0, 182.5)  \n",
       "74  [182.5, 200.175)  \n",
       "\n",
       "[75 rows x 9 columns]"
      ]
     },
     "execution_count": 7,
     "metadata": {},
     "output_type": "execute_result"
    }
   ],
   "source": [
    "# 分成十组\n",
    "dcut = pd.cut(data[key2], 10, right=False)\n",
    "data[\"分组区间\"] = dcut\n",
    "data"
   ]
  },
  {
   "cell_type": "code",
   "execution_count": 8,
   "metadata": {
    "ExecuteTime": {
     "end_time": "2020-01-10T01:11:00.838760Z",
     "start_time": "2020-01-10T01:11:00.829188Z"
    }
   },
   "outputs": [
    {
     "data": {
      "text/plain": [
       "[25.0, 42.5)        14\n",
       "[42.5, 60.0)        17\n",
       "[60.0, 77.5)         1\n",
       "[77.5, 95.0)         2\n",
       "[95.0, 112.5)        4\n",
       "[112.5, 130.0)       2\n",
       "[130.0, 147.5)       3\n",
       "[147.5, 165.0)       4\n",
       "[165.0, 182.5)       8\n",
       "[182.5, 200.175)    20\n",
       "Name: 参考总价, dtype: int64"
      ]
     },
     "execution_count": 8,
     "metadata": {},
     "output_type": "execute_result"
    }
   ],
   "source": [
    "# 分组区间中的个数\n",
    "dcut_count = dcut.value_counts(sort=False)\n",
    "dcut_count"
   ]
  },
  {
   "cell_type": "code",
   "execution_count": 9,
   "metadata": {
    "ExecuteTime": {
     "end_time": "2020-01-10T01:11:01.157445Z",
     "start_time": "2020-01-10T01:11:00.841178Z"
    }
   },
   "outputs": [
    {
     "data": {
      "text/html": [
       "<style  type=\"text/css\" >\n",
       "    #T_10d781cc_3346_11ea_976d_9801a7aae165row0_col1 {\n",
       "            width:  10em;\n",
       "             height:  80%;\n",
       "            background:  linear-gradient(90deg,#ff8400 68.4%, transparent 68.4%);\n",
       "        }    #T_10d781cc_3346_11ea_976d_9801a7aae165row0_col2 {\n",
       "            width:  10em;\n",
       "             height:  80%;\n",
       "        }    #T_10d781cc_3346_11ea_976d_9801a7aae165row1_col1 {\n",
       "            width:  10em;\n",
       "             height:  80%;\n",
       "            background:  linear-gradient(90deg,#ff8400 84.2%, transparent 84.2%);\n",
       "        }    #T_10d781cc_3346_11ea_976d_9801a7aae165row1_col2 {\n",
       "            width:  10em;\n",
       "             height:  80%;\n",
       "            background:  linear-gradient(90deg,#ff8400 27.9%, transparent 27.9%);\n",
       "        }    #T_10d781cc_3346_11ea_976d_9801a7aae165row2_col1 {\n",
       "            width:  10em;\n",
       "             height:  80%;\n",
       "        }    #T_10d781cc_3346_11ea_976d_9801a7aae165row2_col2 {\n",
       "            width:  10em;\n",
       "             height:  80%;\n",
       "            background:  linear-gradient(90deg,#ff8400 29.5%, transparent 29.5%);\n",
       "        }    #T_10d781cc_3346_11ea_976d_9801a7aae165row3_col1 {\n",
       "            width:  10em;\n",
       "             height:  80%;\n",
       "            background:  linear-gradient(90deg,#ff8400 5.3%, transparent 5.3%);\n",
       "        }    #T_10d781cc_3346_11ea_976d_9801a7aae165row3_col2 {\n",
       "            width:  10em;\n",
       "             height:  80%;\n",
       "            background:  linear-gradient(90deg,#ff8400 32.8%, transparent 32.8%);\n",
       "        }    #T_10d781cc_3346_11ea_976d_9801a7aae165row4_col1 {\n",
       "            width:  10em;\n",
       "             height:  80%;\n",
       "            background:  linear-gradient(90deg,#ff8400 15.8%, transparent 15.8%);\n",
       "        }    #T_10d781cc_3346_11ea_976d_9801a7aae165row4_col2 {\n",
       "            width:  10em;\n",
       "             height:  80%;\n",
       "            background:  linear-gradient(90deg,#ff8400 39.3%, transparent 39.3%);\n",
       "        }    #T_10d781cc_3346_11ea_976d_9801a7aae165row5_col1 {\n",
       "            width:  10em;\n",
       "             height:  80%;\n",
       "            background:  linear-gradient(90deg,#ff8400 5.3%, transparent 5.3%);\n",
       "        }    #T_10d781cc_3346_11ea_976d_9801a7aae165row5_col2 {\n",
       "            width:  10em;\n",
       "             height:  80%;\n",
       "            background:  linear-gradient(90deg,#ff8400 42.6%, transparent 42.6%);\n",
       "        }    #T_10d781cc_3346_11ea_976d_9801a7aae165row6_col1 {\n",
       "            width:  10em;\n",
       "             height:  80%;\n",
       "            background:  linear-gradient(90deg,#ff8400 10.5%, transparent 10.5%);\n",
       "        }    #T_10d781cc_3346_11ea_976d_9801a7aae165row6_col2 {\n",
       "            width:  10em;\n",
       "             height:  80%;\n",
       "            background:  linear-gradient(90deg,#ff8400 47.5%, transparent 47.5%);\n",
       "        }    #T_10d781cc_3346_11ea_976d_9801a7aae165row7_col1 {\n",
       "            width:  10em;\n",
       "             height:  80%;\n",
       "            background:  linear-gradient(90deg,#ff8400 15.8%, transparent 15.8%);\n",
       "        }    #T_10d781cc_3346_11ea_976d_9801a7aae165row7_col2 {\n",
       "            width:  10em;\n",
       "             height:  80%;\n",
       "            background:  linear-gradient(90deg,#ff8400 54.1%, transparent 54.1%);\n",
       "        }    #T_10d781cc_3346_11ea_976d_9801a7aae165row8_col1 {\n",
       "            width:  10em;\n",
       "             height:  80%;\n",
       "            background:  linear-gradient(90deg,#ff8400 36.8%, transparent 36.8%);\n",
       "        }    #T_10d781cc_3346_11ea_976d_9801a7aae165row8_col2 {\n",
       "            width:  10em;\n",
       "             height:  80%;\n",
       "            background:  linear-gradient(90deg,#ff8400 67.2%, transparent 67.2%);\n",
       "        }    #T_10d781cc_3346_11ea_976d_9801a7aae165row9_col1 {\n",
       "            width:  10em;\n",
       "             height:  80%;\n",
       "            background:  linear-gradient(90deg,#ff8400 100.0%, transparent 100.0%);\n",
       "        }    #T_10d781cc_3346_11ea_976d_9801a7aae165row9_col2 {\n",
       "            width:  10em;\n",
       "             height:  80%;\n",
       "            background:  linear-gradient(90deg,#ff8400 100.0%, transparent 100.0%);\n",
       "        }</style><table id=\"T_10d781cc_3346_11ea_976d_9801a7aae165\" ><thead>    <tr>        <th class=\"blank level0\" ></th>        <th class=\"col_heading level0 col0\" >频数</th>        <th class=\"col_heading level0 col1\" >频率</th>        <th class=\"col_heading level0 col2\" >累计频率</th>        <th class=\"col_heading level0 col3\" >频率(%)</th>        <th class=\"col_heading level0 col4\" >累计频率(%)</th>    </tr></thead><tbody>\n",
       "                <tr>\n",
       "                        <th id=\"T_10d781cc_3346_11ea_976d_9801a7aae165level0_row0\" class=\"row_heading level0 row0\" >[25.0, 42.5)</th>\n",
       "                        <td id=\"T_10d781cc_3346_11ea_976d_9801a7aae165row0_col0\" class=\"data row0 col0\" >14</td>\n",
       "                        <td id=\"T_10d781cc_3346_11ea_976d_9801a7aae165row0_col1\" class=\"data row0 col1\" >0.186667</td>\n",
       "                        <td id=\"T_10d781cc_3346_11ea_976d_9801a7aae165row0_col2\" class=\"data row0 col2\" >0.186667</td>\n",
       "                        <td id=\"T_10d781cc_3346_11ea_976d_9801a7aae165row0_col3\" class=\"data row0 col3\" >18.67%</td>\n",
       "                        <td id=\"T_10d781cc_3346_11ea_976d_9801a7aae165row0_col4\" class=\"data row0 col4\" >18.67%</td>\n",
       "            </tr>\n",
       "            <tr>\n",
       "                        <th id=\"T_10d781cc_3346_11ea_976d_9801a7aae165level0_row1\" class=\"row_heading level0 row1\" >[42.5, 60.0)</th>\n",
       "                        <td id=\"T_10d781cc_3346_11ea_976d_9801a7aae165row1_col0\" class=\"data row1 col0\" >17</td>\n",
       "                        <td id=\"T_10d781cc_3346_11ea_976d_9801a7aae165row1_col1\" class=\"data row1 col1\" >0.226667</td>\n",
       "                        <td id=\"T_10d781cc_3346_11ea_976d_9801a7aae165row1_col2\" class=\"data row1 col2\" >0.413333</td>\n",
       "                        <td id=\"T_10d781cc_3346_11ea_976d_9801a7aae165row1_col3\" class=\"data row1 col3\" >22.67%</td>\n",
       "                        <td id=\"T_10d781cc_3346_11ea_976d_9801a7aae165row1_col4\" class=\"data row1 col4\" >41.33%</td>\n",
       "            </tr>\n",
       "            <tr>\n",
       "                        <th id=\"T_10d781cc_3346_11ea_976d_9801a7aae165level0_row2\" class=\"row_heading level0 row2\" >[60.0, 77.5)</th>\n",
       "                        <td id=\"T_10d781cc_3346_11ea_976d_9801a7aae165row2_col0\" class=\"data row2 col0\" >1</td>\n",
       "                        <td id=\"T_10d781cc_3346_11ea_976d_9801a7aae165row2_col1\" class=\"data row2 col1\" >0.0133333</td>\n",
       "                        <td id=\"T_10d781cc_3346_11ea_976d_9801a7aae165row2_col2\" class=\"data row2 col2\" >0.426667</td>\n",
       "                        <td id=\"T_10d781cc_3346_11ea_976d_9801a7aae165row2_col3\" class=\"data row2 col3\" >1.33%</td>\n",
       "                        <td id=\"T_10d781cc_3346_11ea_976d_9801a7aae165row2_col4\" class=\"data row2 col4\" >42.67%</td>\n",
       "            </tr>\n",
       "            <tr>\n",
       "                        <th id=\"T_10d781cc_3346_11ea_976d_9801a7aae165level0_row3\" class=\"row_heading level0 row3\" >[77.5, 95.0)</th>\n",
       "                        <td id=\"T_10d781cc_3346_11ea_976d_9801a7aae165row3_col0\" class=\"data row3 col0\" >2</td>\n",
       "                        <td id=\"T_10d781cc_3346_11ea_976d_9801a7aae165row3_col1\" class=\"data row3 col1\" >0.0266667</td>\n",
       "                        <td id=\"T_10d781cc_3346_11ea_976d_9801a7aae165row3_col2\" class=\"data row3 col2\" >0.453333</td>\n",
       "                        <td id=\"T_10d781cc_3346_11ea_976d_9801a7aae165row3_col3\" class=\"data row3 col3\" >2.67%</td>\n",
       "                        <td id=\"T_10d781cc_3346_11ea_976d_9801a7aae165row3_col4\" class=\"data row3 col4\" >45.33%</td>\n",
       "            </tr>\n",
       "            <tr>\n",
       "                        <th id=\"T_10d781cc_3346_11ea_976d_9801a7aae165level0_row4\" class=\"row_heading level0 row4\" >[95.0, 112.5)</th>\n",
       "                        <td id=\"T_10d781cc_3346_11ea_976d_9801a7aae165row4_col0\" class=\"data row4 col0\" >4</td>\n",
       "                        <td id=\"T_10d781cc_3346_11ea_976d_9801a7aae165row4_col1\" class=\"data row4 col1\" >0.0533333</td>\n",
       "                        <td id=\"T_10d781cc_3346_11ea_976d_9801a7aae165row4_col2\" class=\"data row4 col2\" >0.506667</td>\n",
       "                        <td id=\"T_10d781cc_3346_11ea_976d_9801a7aae165row4_col3\" class=\"data row4 col3\" >5.33%</td>\n",
       "                        <td id=\"T_10d781cc_3346_11ea_976d_9801a7aae165row4_col4\" class=\"data row4 col4\" >50.67%</td>\n",
       "            </tr>\n",
       "            <tr>\n",
       "                        <th id=\"T_10d781cc_3346_11ea_976d_9801a7aae165level0_row5\" class=\"row_heading level0 row5\" >[112.5, 130.0)</th>\n",
       "                        <td id=\"T_10d781cc_3346_11ea_976d_9801a7aae165row5_col0\" class=\"data row5 col0\" >2</td>\n",
       "                        <td id=\"T_10d781cc_3346_11ea_976d_9801a7aae165row5_col1\" class=\"data row5 col1\" >0.0266667</td>\n",
       "                        <td id=\"T_10d781cc_3346_11ea_976d_9801a7aae165row5_col2\" class=\"data row5 col2\" >0.533333</td>\n",
       "                        <td id=\"T_10d781cc_3346_11ea_976d_9801a7aae165row5_col3\" class=\"data row5 col3\" >2.67%</td>\n",
       "                        <td id=\"T_10d781cc_3346_11ea_976d_9801a7aae165row5_col4\" class=\"data row5 col4\" >53.33%</td>\n",
       "            </tr>\n",
       "            <tr>\n",
       "                        <th id=\"T_10d781cc_3346_11ea_976d_9801a7aae165level0_row6\" class=\"row_heading level0 row6\" >[130.0, 147.5)</th>\n",
       "                        <td id=\"T_10d781cc_3346_11ea_976d_9801a7aae165row6_col0\" class=\"data row6 col0\" >3</td>\n",
       "                        <td id=\"T_10d781cc_3346_11ea_976d_9801a7aae165row6_col1\" class=\"data row6 col1\" >0.04</td>\n",
       "                        <td id=\"T_10d781cc_3346_11ea_976d_9801a7aae165row6_col2\" class=\"data row6 col2\" >0.573333</td>\n",
       "                        <td id=\"T_10d781cc_3346_11ea_976d_9801a7aae165row6_col3\" class=\"data row6 col3\" >4.00%</td>\n",
       "                        <td id=\"T_10d781cc_3346_11ea_976d_9801a7aae165row6_col4\" class=\"data row6 col4\" >57.33%</td>\n",
       "            </tr>\n",
       "            <tr>\n",
       "                        <th id=\"T_10d781cc_3346_11ea_976d_9801a7aae165level0_row7\" class=\"row_heading level0 row7\" >[147.5, 165.0)</th>\n",
       "                        <td id=\"T_10d781cc_3346_11ea_976d_9801a7aae165row7_col0\" class=\"data row7 col0\" >4</td>\n",
       "                        <td id=\"T_10d781cc_3346_11ea_976d_9801a7aae165row7_col1\" class=\"data row7 col1\" >0.0533333</td>\n",
       "                        <td id=\"T_10d781cc_3346_11ea_976d_9801a7aae165row7_col2\" class=\"data row7 col2\" >0.626667</td>\n",
       "                        <td id=\"T_10d781cc_3346_11ea_976d_9801a7aae165row7_col3\" class=\"data row7 col3\" >5.33%</td>\n",
       "                        <td id=\"T_10d781cc_3346_11ea_976d_9801a7aae165row7_col4\" class=\"data row7 col4\" >62.67%</td>\n",
       "            </tr>\n",
       "            <tr>\n",
       "                        <th id=\"T_10d781cc_3346_11ea_976d_9801a7aae165level0_row8\" class=\"row_heading level0 row8\" >[165.0, 182.5)</th>\n",
       "                        <td id=\"T_10d781cc_3346_11ea_976d_9801a7aae165row8_col0\" class=\"data row8 col0\" >8</td>\n",
       "                        <td id=\"T_10d781cc_3346_11ea_976d_9801a7aae165row8_col1\" class=\"data row8 col1\" >0.106667</td>\n",
       "                        <td id=\"T_10d781cc_3346_11ea_976d_9801a7aae165row8_col2\" class=\"data row8 col2\" >0.733333</td>\n",
       "                        <td id=\"T_10d781cc_3346_11ea_976d_9801a7aae165row8_col3\" class=\"data row8 col3\" >10.67%</td>\n",
       "                        <td id=\"T_10d781cc_3346_11ea_976d_9801a7aae165row8_col4\" class=\"data row8 col4\" >73.33%</td>\n",
       "            </tr>\n",
       "            <tr>\n",
       "                        <th id=\"T_10d781cc_3346_11ea_976d_9801a7aae165level0_row9\" class=\"row_heading level0 row9\" >[182.5, 200.175)</th>\n",
       "                        <td id=\"T_10d781cc_3346_11ea_976d_9801a7aae165row9_col0\" class=\"data row9 col0\" >20</td>\n",
       "                        <td id=\"T_10d781cc_3346_11ea_976d_9801a7aae165row9_col1\" class=\"data row9 col1\" >0.266667</td>\n",
       "                        <td id=\"T_10d781cc_3346_11ea_976d_9801a7aae165row9_col2\" class=\"data row9 col2\" >1</td>\n",
       "                        <td id=\"T_10d781cc_3346_11ea_976d_9801a7aae165row9_col3\" class=\"data row9 col3\" >26.67%</td>\n",
       "                        <td id=\"T_10d781cc_3346_11ea_976d_9801a7aae165row9_col4\" class=\"data row9 col4\" >100.00%</td>\n",
       "            </tr>\n",
       "    </tbody></table>"
      ],
      "text/plain": [
       "<pandas.io.formats.style.Styler at 0x12449d040>"
      ]
     },
     "execution_count": 9,
     "metadata": {},
     "output_type": "execute_result"
    }
   ],
   "source": [
    "# 频率分布情况\n",
    "r_zj = pd.DataFrame(dcut_count)\n",
    "r_zj.rename(columns={dcut_count.name:\"频数\"}, inplace=True)  # 更改频数名称\n",
    "\n",
    "# 计算频率\n",
    "r_zj[\"频率\"] = r_zj[\"频数\"] / r_zj[\"频数\"].sum()\n",
    "# 计算累计频率\n",
    "r_zj[\"累计频率\"] = r_zj[\"频率\"].cumsum()\n",
    "# 换成百分比的格式\n",
    "r_zj[\"频率(%)\"] = r_zj[\"频率\"].apply(lambda x: \"%.2f%%\" % (x * 100))\n",
    "r_zj[\"累计频率(%)\"] = r_zj[\"累计频率\"].apply(lambda x: \"%.2f%%\" % (x * 100))\n",
    "# 可视化显示\n",
    "r_zj.style.bar(subset=[\"频率\", \"累计频率\"], color='#ff8400', width=100)"
   ]
  },
  {
   "cell_type": "code",
   "execution_count": 10,
   "metadata": {
    "ExecuteTime": {
     "end_time": "2020-01-10T01:11:01.426538Z",
     "start_time": "2020-01-10T01:11:01.159519Z"
    }
   },
   "outputs": [
    {
     "data": {
      "image/png": "[encoded data removed]",
      "text/plain": [
       "<Figure size 1296x144 with 1 Axes>"
      ]
     },
     "metadata": {
      "needs_background": "light"
     },
     "output_type": "display_data"
    }
   ],
   "source": [
    "# 频率分布情况 - 定量字段\n",
    "# 绘制频率直方图\n",
    "plt.rcParams[\"font.family\"] = 'Arial Unicode MS'\n",
    "r_zj[\"频率\"].plot(kind='bar', width=0.8, figsize=(18, 2), rot=0, color='k', grid=True, alpha=0.5)\n",
    "plt.title(\"参考总价频率分布直方图\")  # 绘制直方图\n",
    "x = len(r_zj)\n",
    "y = r_zj[\"频率\"]\n",
    "m = r_zj[\"频数\"]\n",
    "for i, j, k in zip(range(x), y, m):\n",
    "    plt.text(i-0.1, j+0.01, \"%i\" % k, color='k')\n",
    "# 添加频数标签"
   ]
  },
  {
   "cell_type": "code",
   "execution_count": 11,
   "metadata": {
    "ExecuteTime": {
     "end_time": "2020-01-10T01:11:01.460623Z",
     "start_time": "2020-01-10T01:11:01.429115Z"
    }
   },
   "outputs": [
    {
     "name": "stdout",
     "output_type": "stream",
     "text": [
      "东南     5\n",
      "东北     1\n",
      "北      4\n",
      "南北    29\n",
      "西南     4\n",
      "东西     1\n",
      "南     20\n",
      "东      8\n",
      "西北     3\n",
      "Name: 朝向, dtype: int64\n"
     ]
    },
    {
     "data": {
      "text/html": [
       "<style  type=\"text/css\" >\n",
       "    #T_1105cf14_3346_11ea_976d_9801a7aae165row0_col1 {\n",
       "            width:  10em;\n",
       "             height:  80%;\n",
       "            background:  linear-gradient(90deg,#d65f5f 14.3%, transparent 14.3%);\n",
       "        }    #T_1105cf14_3346_11ea_976d_9801a7aae165row0_col2 {\n",
       "            width:  10em;\n",
       "             height:  80%;\n",
       "        }    #T_1105cf14_3346_11ea_976d_9801a7aae165row1_col1 {\n",
       "            width:  10em;\n",
       "             height:  80%;\n",
       "        }    #T_1105cf14_3346_11ea_976d_9801a7aae165row1_col2 {\n",
       "            width:  10em;\n",
       "             height:  80%;\n",
       "            background:  linear-gradient(90deg,#d65f5f 1.4%, transparent 1.4%);\n",
       "        }    #T_1105cf14_3346_11ea_976d_9801a7aae165row2_col1 {\n",
       "            width:  10em;\n",
       "             height:  80%;\n",
       "            background:  linear-gradient(90deg,#d65f5f 10.7%, transparent 10.7%);\n",
       "        }    #T_1105cf14_3346_11ea_976d_9801a7aae165row2_col2 {\n",
       "            width:  10em;\n",
       "             height:  80%;\n",
       "            background:  linear-gradient(90deg,#d65f5f 7.1%, transparent 7.1%);\n",
       "        }    #T_1105cf14_3346_11ea_976d_9801a7aae165row3_col1 {\n",
       "            width:  10em;\n",
       "             height:  80%;\n",
       "            background:  linear-gradient(90deg,#d65f5f 100.0%, transparent 100.0%);\n",
       "        }    #T_1105cf14_3346_11ea_976d_9801a7aae165row3_col2 {\n",
       "            width:  10em;\n",
       "             height:  80%;\n",
       "            background:  linear-gradient(90deg,#d65f5f 48.6%, transparent 48.6%);\n",
       "        }    #T_1105cf14_3346_11ea_976d_9801a7aae165row4_col1 {\n",
       "            width:  10em;\n",
       "             height:  80%;\n",
       "            background:  linear-gradient(90deg,#d65f5f 10.7%, transparent 10.7%);\n",
       "        }    #T_1105cf14_3346_11ea_976d_9801a7aae165row4_col2 {\n",
       "            width:  10em;\n",
       "             height:  80%;\n",
       "            background:  linear-gradient(90deg,#d65f5f 54.3%, transparent 54.3%);\n",
       "        }    #T_1105cf14_3346_11ea_976d_9801a7aae165row5_col1 {\n",
       "            width:  10em;\n",
       "             height:  80%;\n",
       "        }    #T_1105cf14_3346_11ea_976d_9801a7aae165row5_col2 {\n",
       "            width:  10em;\n",
       "             height:  80%;\n",
       "            background:  linear-gradient(90deg,#d65f5f 55.7%, transparent 55.7%);\n",
       "        }    #T_1105cf14_3346_11ea_976d_9801a7aae165row6_col1 {\n",
       "            width:  10em;\n",
       "             height:  80%;\n",
       "            background:  linear-gradient(90deg,#d65f5f 67.9%, transparent 67.9%);\n",
       "        }    #T_1105cf14_3346_11ea_976d_9801a7aae165row6_col2 {\n",
       "            width:  10em;\n",
       "             height:  80%;\n",
       "            background:  linear-gradient(90deg,#d65f5f 84.3%, transparent 84.3%);\n",
       "        }    #T_1105cf14_3346_11ea_976d_9801a7aae165row7_col1 {\n",
       "            width:  10em;\n",
       "             height:  80%;\n",
       "            background:  linear-gradient(90deg,#d65f5f 25.0%, transparent 25.0%);\n",
       "        }    #T_1105cf14_3346_11ea_976d_9801a7aae165row7_col2 {\n",
       "            width:  10em;\n",
       "             height:  80%;\n",
       "            background:  linear-gradient(90deg,#d65f5f 95.7%, transparent 95.7%);\n",
       "        }    #T_1105cf14_3346_11ea_976d_9801a7aae165row8_col1 {\n",
       "            width:  10em;\n",
       "             height:  80%;\n",
       "            background:  linear-gradient(90deg,#d65f5f 7.1%, transparent 7.1%);\n",
       "        }    #T_1105cf14_3346_11ea_976d_9801a7aae165row8_col2 {\n",
       "            width:  10em;\n",
       "             height:  80%;\n",
       "            background:  linear-gradient(90deg,#d65f5f 100.0%, transparent 100.0%);\n",
       "        }</style><table id=\"T_1105cf14_3346_11ea_976d_9801a7aae165\" ><thead>    <tr>        <th class=\"blank level0\" ></th>        <th class=\"col_heading level0 col0\" >频数</th>        <th class=\"col_heading level0 col1\" >频率</th>        <th class=\"col_heading level0 col2\" >累计频率</th>        <th class=\"col_heading level0 col3\" >频率(%)</th>        <th class=\"col_heading level0 col4\" >累计频率(%)</th>    </tr></thead><tbody>\n",
       "                <tr>\n",
       "                        <th id=\"T_1105cf14_3346_11ea_976d_9801a7aae165level0_row0\" class=\"row_heading level0 row0\" >东南</th>\n",
       "                        <td id=\"T_1105cf14_3346_11ea_976d_9801a7aae165row0_col0\" class=\"data row0 col0\" >5</td>\n",
       "                        <td id=\"T_1105cf14_3346_11ea_976d_9801a7aae165row0_col1\" class=\"data row0 col1\" >0.0666667</td>\n",
       "                        <td id=\"T_1105cf14_3346_11ea_976d_9801a7aae165row0_col2\" class=\"data row0 col2\" >0.0666667</td>\n",
       "                        <td id=\"T_1105cf14_3346_11ea_976d_9801a7aae165row0_col3\" class=\"data row0 col3\" >6.67%</td>\n",
       "                        <td id=\"T_1105cf14_3346_11ea_976d_9801a7aae165row0_col4\" class=\"data row0 col4\" >6.67%</td>\n",
       "            </tr>\n",
       "            <tr>\n",
       "                        <th id=\"T_1105cf14_3346_11ea_976d_9801a7aae165level0_row1\" class=\"row_heading level0 row1\" >东北</th>\n",
       "                        <td id=\"T_1105cf14_3346_11ea_976d_9801a7aae165row1_col0\" class=\"data row1 col0\" >1</td>\n",
       "                        <td id=\"T_1105cf14_3346_11ea_976d_9801a7aae165row1_col1\" class=\"data row1 col1\" >0.0133333</td>\n",
       "                        <td id=\"T_1105cf14_3346_11ea_976d_9801a7aae165row1_col2\" class=\"data row1 col2\" >0.08</td>\n",
       "                        <td id=\"T_1105cf14_3346_11ea_976d_9801a7aae165row1_col3\" class=\"data row1 col3\" >1.33%</td>\n",
       "                        <td id=\"T_1105cf14_3346_11ea_976d_9801a7aae165row1_col4\" class=\"data row1 col4\" >8.00%</td>\n",
       "            </tr>\n",
       "            <tr>\n",
       "                        <th id=\"T_1105cf14_3346_11ea_976d_9801a7aae165level0_row2\" class=\"row_heading level0 row2\" >北</th>\n",
       "                        <td id=\"T_1105cf14_3346_11ea_976d_9801a7aae165row2_col0\" class=\"data row2 col0\" >4</td>\n",
       "                        <td id=\"T_1105cf14_3346_11ea_976d_9801a7aae165row2_col1\" class=\"data row2 col1\" >0.0533333</td>\n",
       "                        <td id=\"T_1105cf14_3346_11ea_976d_9801a7aae165row2_col2\" class=\"data row2 col2\" >0.133333</td>\n",
       "                        <td id=\"T_1105cf14_3346_11ea_976d_9801a7aae165row2_col3\" class=\"data row2 col3\" >5.33%</td>\n",
       "                        <td id=\"T_1105cf14_3346_11ea_976d_9801a7aae165row2_col4\" class=\"data row2 col4\" >13.33%</td>\n",
       "            </tr>\n",
       "            <tr>\n",
       "                        <th id=\"T_1105cf14_3346_11ea_976d_9801a7aae165level0_row3\" class=\"row_heading level0 row3\" >南北</th>\n",
       "                        <td id=\"T_1105cf14_3346_11ea_976d_9801a7aae165row3_col0\" class=\"data row3 col0\" >29</td>\n",
       "                        <td id=\"T_1105cf14_3346_11ea_976d_9801a7aae165row3_col1\" class=\"data row3 col1\" >0.386667</td>\n",
       "                        <td id=\"T_1105cf14_3346_11ea_976d_9801a7aae165row3_col2\" class=\"data row3 col2\" >0.52</td>\n",
       "                        <td id=\"T_1105cf14_3346_11ea_976d_9801a7aae165row3_col3\" class=\"data row3 col3\" >38.67%</td>\n",
       "                        <td id=\"T_1105cf14_3346_11ea_976d_9801a7aae165row3_col4\" class=\"data row3 col4\" >52.00%</td>\n",
       "            </tr>\n",
       "            <tr>\n",
       "                        <th id=\"T_1105cf14_3346_11ea_976d_9801a7aae165level0_row4\" class=\"row_heading level0 row4\" >西南</th>\n",
       "                        <td id=\"T_1105cf14_3346_11ea_976d_9801a7aae165row4_col0\" class=\"data row4 col0\" >4</td>\n",
       "                        <td id=\"T_1105cf14_3346_11ea_976d_9801a7aae165row4_col1\" class=\"data row4 col1\" >0.0533333</td>\n",
       "                        <td id=\"T_1105cf14_3346_11ea_976d_9801a7aae165row4_col2\" class=\"data row4 col2\" >0.573333</td>\n",
       "                        <td id=\"T_1105cf14_3346_11ea_976d_9801a7aae165row4_col3\" class=\"data row4 col3\" >5.33%</td>\n",
       "                        <td id=\"T_1105cf14_3346_11ea_976d_9801a7aae165row4_col4\" class=\"data row4 col4\" >57.33%</td>\n",
       "            </tr>\n",
       "            <tr>\n",
       "                        <th id=\"T_1105cf14_3346_11ea_976d_9801a7aae165level0_row5\" class=\"row_heading level0 row5\" >东西</th>\n",
       "                        <td id=\"T_1105cf14_3346_11ea_976d_9801a7aae165row5_col0\" class=\"data row5 col0\" >1</td>\n",
       "                        <td id=\"T_1105cf14_3346_11ea_976d_9801a7aae165row5_col1\" class=\"data row5 col1\" >0.0133333</td>\n",
       "                        <td id=\"T_1105cf14_3346_11ea_976d_9801a7aae165row5_col2\" class=\"data row5 col2\" >0.586667</td>\n",
       "                        <td id=\"T_1105cf14_3346_11ea_976d_9801a7aae165row5_col3\" class=\"data row5 col3\" >1.33%</td>\n",
       "                        <td id=\"T_1105cf14_3346_11ea_976d_9801a7aae165row5_col4\" class=\"data row5 col4\" >58.67%</td>\n",
       "            </tr>\n",
       "            <tr>\n",
       "                        <th id=\"T_1105cf14_3346_11ea_976d_9801a7aae165level0_row6\" class=\"row_heading level0 row6\" >南</th>\n",
       "                        <td id=\"T_1105cf14_3346_11ea_976d_9801a7aae165row6_col0\" class=\"data row6 col0\" >20</td>\n",
       "                        <td id=\"T_1105cf14_3346_11ea_976d_9801a7aae165row6_col1\" class=\"data row6 col1\" >0.266667</td>\n",
       "                        <td id=\"T_1105cf14_3346_11ea_976d_9801a7aae165row6_col2\" class=\"data row6 col2\" >0.853333</td>\n",
       "                        <td id=\"T_1105cf14_3346_11ea_976d_9801a7aae165row6_col3\" class=\"data row6 col3\" >26.67%</td>\n",
       "                        <td id=\"T_1105cf14_3346_11ea_976d_9801a7aae165row6_col4\" class=\"data row6 col4\" >85.33%</td>\n",
       "            </tr>\n",
       "            <tr>\n",
       "                        <th id=\"T_1105cf14_3346_11ea_976d_9801a7aae165level0_row7\" class=\"row_heading level0 row7\" >东</th>\n",
       "                        <td id=\"T_1105cf14_3346_11ea_976d_9801a7aae165row7_col0\" class=\"data row7 col0\" >8</td>\n",
       "                        <td id=\"T_1105cf14_3346_11ea_976d_9801a7aae165row7_col1\" class=\"data row7 col1\" >0.106667</td>\n",
       "                        <td id=\"T_1105cf14_3346_11ea_976d_9801a7aae165row7_col2\" class=\"data row7 col2\" >0.96</td>\n",
       "                        <td id=\"T_1105cf14_3346_11ea_976d_9801a7aae165row7_col3\" class=\"data row7 col3\" >10.67%</td>\n",
       "                        <td id=\"T_1105cf14_3346_11ea_976d_9801a7aae165row7_col4\" class=\"data row7 col4\" >96.00%</td>\n",
       "            </tr>\n",
       "            <tr>\n",
       "                        <th id=\"T_1105cf14_3346_11ea_976d_9801a7aae165level0_row8\" class=\"row_heading level0 row8\" >西北</th>\n",
       "                        <td id=\"T_1105cf14_3346_11ea_976d_9801a7aae165row8_col0\" class=\"data row8 col0\" >3</td>\n",
       "                        <td id=\"T_1105cf14_3346_11ea_976d_9801a7aae165row8_col1\" class=\"data row8 col1\" >0.04</td>\n",
       "                        <td id=\"T_1105cf14_3346_11ea_976d_9801a7aae165row8_col2\" class=\"data row8 col2\" >1</td>\n",
       "                        <td id=\"T_1105cf14_3346_11ea_976d_9801a7aae165row8_col3\" class=\"data row8 col3\" >4.00%</td>\n",
       "                        <td id=\"T_1105cf14_3346_11ea_976d_9801a7aae165row8_col4\" class=\"data row8 col4\" >100.00%</td>\n",
       "            </tr>\n",
       "    </tbody></table>"
      ],
      "text/plain": [
       "<pandas.io.formats.style.Styler at 0x124a486d0>"
      ]
     },
     "execution_count": 11,
     "metadata": {},
     "output_type": "execute_result"
    }
   ],
   "source": [
    "# 频率分布情况 - 定性字段\n",
    "cx_g = data[\"朝向\"].value_counts(sort=False)\n",
    "print(cx_g)\n",
    "# 生成频数分布表\n",
    "r_cx = pd.DataFrame(cx_g)\n",
    "r_cx.rename(columns={cx_g.name:\"频数\"}, inplace=True)\n",
    "\n",
    "# 计算频率\n",
    "r_cx[\"频率\"] = r_cx[\"频数\"] / r_cx[\"频数\"].sum()\n",
    "# 计算累计频率\n",
    "r_cx[\"累计频率\"] = r_cx[\"频率\"].cumsum()\n",
    "# 转换成百分比格式\n",
    "r_cx[\"频率(%)\"] = r_cx[\"频率\"].apply(lambda x: \"%.2f%%\" % (x * 100))\n",
    "r_cx[\"累计频率(%)\"] = r_cx[\"累计频率\"].apply(lambda x: \"%.2f%%\" % (x*100))\n",
    "r_cx.style.bar(subset=[\"频率\", \"累计频率\"])\n"
   ]
  },
  {
   "cell_type": "code",
   "execution_count": 12,
   "metadata": {
    "ExecuteTime": {
     "end_time": "2020-01-10T01:11:01.824023Z",
     "start_time": "2020-01-10T01:11:01.462371Z"
    }
   },
   "outputs": [
    {
     "data": {
      "text/plain": [
       "(-1.118566947393512,\n",
       " 1.1008841434345193,\n",
       " -1.1098573171340151,\n",
       " 1.1189942432687938)"
      ]
     },
     "execution_count": 12,
     "metadata": {},
     "output_type": "execute_result"
    },
    {
     "data": {
      "image/png": "[encoded data removed]",
      "text/plain": [
       "<Figure size 1296x288 with 1 Axes>"
      ]
     },
     "metadata": {
      "needs_background": "light"
     },
     "output_type": "display_data"
    },
    {
     "data": {
      "image/png": "[encoded data removed]",
      "text/plain": [
       "<Figure size 432x288 with 1 Axes>"
      ]
     },
     "metadata": {},
     "output_type": "display_data"
    }
   ],
   "source": [
    "# 频率分布情况 - 定性字段\n",
    "# 绘制直方图、饼图\n",
    "plt.figure(num=1, figsize=(18, 4))\n",
    "r_cx[\"频率\"].plot(kind=\"bar\", title=\"朝向分布频率直方图\", grid=True, alpha=0.5, width=0.8, rot=0)\n",
    "\n",
    "plt.figure(num=2)\n",
    "plt.pie(r_cx[\"频数\"], labels=r_cx.index, autopct=\"%.2f%%\", shadow=True)\n",
    "plt.axis('equal')\n",
    "# 绘制饼图\n"
   ]
  }
 ],
 "metadata": {
  "kernelspec": {
   "display_name": "Python 3",
   "language": "python",
   "name": "python3"
  },
  "language_info": {
   "codemirror_mode": {
    "name": "ipython",
    "version": 3
   },
   "file_extension": ".py",
   "mimetype": "text/x-python",
   "name": "python",
   "nbconvert_exporter": "python",
   "pygments_lexer": "ipython3",
   "version": "3.8.0"
  },
  "toc": {
   "base_numbering": 1,
   "nav_menu": {},
   "number_sections": true,
   "sideBar": true,
   "skip_h1_title": false,
   "title_cell": "Table of Contents",
   "title_sidebar": "Contents",
   "toc_cell": false,
   "toc_position": {},
   "toc_section_display": true,
   "toc_window_display": false
  },
  "varInspector": {
   "cols": {
    "lenName": 16,
    "lenType": 16,
    "lenVar": 40
   },
   "kernels_config": {
    "python": {
     "delete_cmd_postfix": "",
     "delete_cmd_prefix": "del ",
     "library": "var_list.py",
     "varRefreshCmd": "print(var_dic_list())"
    },
    "r": {
     "delete_cmd_postfix": ") ",
     "delete_cmd_prefix": "rm(",
     "library": "var_list.r",
     "varRefreshCmd": "cat(var_dic_list()) "
    }
   },
   "types_to_exclude": [
    "module",
    "function",
    "builtin_function_or_method",
    "instance",
    "_Feature"
   ],
   "window_display": false
  }
 },
 "nbformat": 4,
 "nbformat_minor": 2
}
